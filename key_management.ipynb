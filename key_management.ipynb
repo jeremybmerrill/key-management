{
 "cells": [
  {
   "cell_type": "code",
   "execution_count": 4,
   "id": "4dd425a8-b77b-41d9-ad3d-f003e5116a43",
   "metadata": {},
   "outputs": [
    {
     "name": "stdout",
     "output_type": "stream",
     "text": [
      "\n",
      "\u001b[1m[\u001b[0m\u001b[34;49mnotice\u001b[0m\u001b[1;39;49m]\u001b[0m\u001b[39;49m A new release of pip available: \u001b[0m\u001b[31;49m22.3.1\u001b[0m\u001b[39;49m -> \u001b[0m\u001b[32;49m25.1.1\u001b[0m\n",
      "\u001b[1m[\u001b[0m\u001b[34;49mnotice\u001b[0m\u001b[1;39;49m]\u001b[0m\u001b[39;49m To update, run: \u001b[0m\u001b[32;49mpip install --upgrade pip\u001b[0m\n"
     ]
    }
   ],
   "source": [
    "!pip install --quiet python-dotenv"
   ]
  },
  {
   "cell_type": "code",
   "execution_count": null,
   "id": "efbc2819-b156-4d2a-bed9-3d58b5647d33",
   "metadata": {},
   "outputs": [],
   "source": [
    "# DON'T DO THIS\n",
    "\n",
    "# your API key is hooked up to someone's credit card\n",
    "# in this case Soma's\n",
    "\n",
    "# let's not let just ANYBODY use it\n",
    "\n",
    "OPENAI_API_KEY=\"sk-proj-abcdefghwhateverwhatever-whatever-whatever-123456789\""
   ]
  },
  {
   "cell_type": "code",
   "execution_count": 8,
   "id": "540fb981-00f3-4bc9-952c-94ba869455da",
   "metadata": {},
   "outputs": [
    {
     "data": {
      "text/plain": [
       "'sk-proj-...'"
      ]
     },
     "execution_count": 8,
     "metadata": {},
     "output_type": "execute_result"
    }
   ],
   "source": [
    "# DO THIS\n",
    "\n",
    "# create a file called `.env`\n",
    "# it's a hidden file, so you might have to change some settings to see it\n",
    "# and write this in there (without the #)\n",
    "# OPENAI_API_KEY=sk-proj-abcdefghwhateverwhatever-whatever-whatever-123456789\n",
    "\n",
    "\n",
    "# you also will want to create a file called .gitignore (it is also hidden)\n",
    "# and put this in it (without the #)\n",
    "# .env \n",
    "# that's to tell Git not to put your .env file (with your API key) onto Github\n",
    "\n",
    "\n",
    "# then this will work...\n",
    "# and your API key isn't in your code!\n",
    "# (but we don't print it out... because then it would be in your notebook output!!)\n",
    "from dotenv import load_dotenv\n",
    "import os\n",
    "load_dotenv()\n",
    "os.environ[\"OPENAI_API_KEY\"][:8] + \"...\""
   ]
  },
  {
   "cell_type": "code",
   "execution_count": null,
   "id": "a1c11bdd-1851-4e00-b869-ac0417260e8a",
   "metadata": {},
   "outputs": [],
   "source": []
  }
 ],
 "metadata": {
  "kernelspec": {
   "display_name": "Python 3 (ipykernel)",
   "language": "python",
   "name": "python3"
  },
  "language_info": {
   "codemirror_mode": {
    "name": "ipython",
    "version": 3
   },
   "file_extension": ".py",
   "mimetype": "text/x-python",
   "name": "python",
   "nbconvert_exporter": "python",
   "pygments_lexer": "ipython3",
   "version": "3.11.2"
  }
 },
 "nbformat": 4,
 "nbformat_minor": 5
}
